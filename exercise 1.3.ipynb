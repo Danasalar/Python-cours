{
 "cells": [
  {
   "cell_type": "code",
   "execution_count": 93,
   "metadata": {},
   "outputs": [],
   "source": [
    "import numpy as np"
   ]
  },
  {
   "cell_type": "code",
   "execution_count": 94,
   "metadata": {},
   "outputs": [],
   "source": [
    "def load_data():    \n",
    "    # Goalkeeper, defender, midfielder, attacker\n",
    "    possible_positions = ['GK', 'D', 'M', 'A']\n",
    "    gkam=['gk', 'm', 'a']\n",
    "    N = 100\n",
    "    positions = []\n",
    "    heights = []\n",
    "    for i in range(0,N):\n",
    "        positions.append(possible_positions[np.random.randint(len(possible_positions))])\n",
    "        heights.append(np.random.normal(loc=180.0,scale=5.0))\n",
    "    return positions, heights"
   ]
  },
  {
   "cell_type": "code",
   "execution_count": 95,
   "metadata": {},
   "outputs": [],
   "source": [
    "positions, heights = load_data()"
   ]
  },
  {
   "cell_type": "code",
   "execution_count": 96,
   "metadata": {},
   "outputs": [
    {
     "name": "stdout",
     "output_type": "stream",
     "text": [
      "<class 'list'> 100\n",
      "<class 'list'> 100\n"
     ]
    }
   ],
   "source": [
    "\n",
    "print(type(positions), len(positions))\n",
    "print(type(heights), len(heights))"
   ]
  },
  {
   "cell_type": "code",
   "execution_count": 97,
   "metadata": {},
   "outputs": [],
   "source": [
    "np_positions = np.array(positions)\n",
    "np_heights = np.array(heights)"
   ]
  },
  {
   "cell_type": "code",
   "execution_count": 98,
   "metadata": {},
   "outputs": [
    {
     "name": "stdout",
     "output_type": "stream",
     "text": [
      "<U2\n",
      "float64\n",
      "(100,)\n",
      "(100,)\n"
     ]
    }
   ],
   "source": [
    "print(np_positions.dtype)\n",
    "print(np_heights.dtype)\n",
    "print(np_positions.shape)\n",
    "print(np_heights.shape)"
   ]
  },
  {
   "cell_type": "code",
   "execution_count": 99,
   "metadata": {},
   "outputs": [],
   "source": [
    "gk_heights = np_heights[np_positions == 'GK']"
   ]
  },
  {
   "cell_type": "code",
   "execution_count": 100,
   "metadata": {},
   "outputs": [
    {
     "name": "stdout",
     "output_type": "stream",
     "text": [
      "Median height of goalkeepers: 180.18277104266252\n"
     ]
    }
   ],
   "source": [
    "print(\"Median height of goalkeepers: \" + str(np.median(gk_heights)))"
   ]
  },
  {
   "cell_type": "code",
   "execution_count": 101,
   "metadata": {},
   "outputs": [],
   "source": [
    "m_heights = np_heights[np_positions == 'M']\n",
    "a_heights = np_heights[np_positions == 'A']\n",
    "gk_a_heights =np.concatenate((gk_heights, a_heights))\n",
    "\n"
   ]
  },
  {
   "cell_type": "code",
   "execution_count": 108,
   "metadata": {},
   "outputs": [
    {
     "name": "stdout",
     "output_type": "stream",
     "text": [
      "Median height of midfielder: 179.36414787407458\n",
      "Median height of attacker: 180.5485909574338\n",
      "Median height of goalkeepers and attacker: 180.21666822596436\n"
     ]
    }
   ],
   "source": [
    "print(\"Median height of midfielder: \" + str(np.median(m_heights)))\n",
    "print(\"Median height of attacker: \" + str(np.median(a_heights)))\n",
    "print(\"Median height of goalkeepers and attacker: \" + str(np.median(gk_a_heights)))\n"
   ]
  },
  {
   "cell_type": "code",
   "execution_count": null,
   "metadata": {},
   "outputs": [],
   "source": []
  },
  {
   "cell_type": "code",
   "execution_count": 140,
   "metadata": {},
   "outputs": [
    {
     "name": "stdout",
     "output_type": "stream",
     "text": [
      "Shortest player: 172.69206465848683\n",
      "Shortest player: 171.3395930286105\n",
      "[171.3395930286105, 169.58686712079376, 171.6060794408518, 172.69206465848683]\n",
      "(array([], dtype=int64),)\n"
     ]
    }
   ],
   "source": [
    "\n",
    "p = ['GK', 'D', 'M', 'A']\n",
    "p_max = [np_heights[np_positions == i].min() for i in p]\n",
    "\n",
    "print(\"Shortest player: \" + str((np.amin(a_heights))))\n",
    "print(\"Shortest player: \" + str(np.amin(gk_a_heights)))\n",
    "\n",
    "result=np.where(p==p_max)\n",
    "print(p_max)\n",
    "print(result)\n"
   ]
  },
  {
   "cell_type": "code",
   "execution_count": 125,
   "metadata": {},
   "outputs": [],
   "source": [
    "import matplotlib.pyplot as plt"
   ]
  },
  {
   "cell_type": "code",
   "execution_count": 130,
   "metadata": {},
   "outputs": [],
   "source": [
    "# For inline plots use\n",
    "%matplotlib inline"
   ]
  },
  {
   "cell_type": "code",
   "execution_count": 129,
   "metadata": {},
   "outputs": [],
   "source": [
    "# For inline plots with interactive capabilities use\n",
    "%matplotlib notebook"
   ]
  },
  {
   "cell_type": "code",
   "execution_count": 121,
   "metadata": {},
   "outputs": [],
   "source": [
    "d_heights = np_heights[np_positions == 'D']"
   ]
  },
  {
   "cell_type": "code",
   "execution_count": 131,
   "metadata": {},
   "outputs": [
    {
     "data": {
      "image/png": "[encoded data removed]",
      "text/plain": [
       "<Figure size 432x288 with 1 Axes>"
      ]
     },
     "metadata": {
      "needs_background": "light"
     },
     "output_type": "display_data"
    }
   ],
   "source": [
    "\n",
    "plt.figure()\n",
    "plt.hist(d_heights)\n",
    "plt.title('Defenders')\n",
    "plt.xlabel('Heights')\n",
    "plt.show()\n",
    "\n",
    "\n",
    "\n"
   ]
  },
  {
   "cell_type": "code",
   "execution_count": 127,
   "metadata": {},
   "outputs": [],
   "source": [
    "p = ['GK', 'D', 'M', 'A']\n",
    "p_max = [np_heights[np_positions == i].max() for i in p]"
   ]
  },
  {
   "cell_type": "code",
   "execution_count": 132,
   "metadata": {},
   "outputs": [
    {
     "data": {
      "image/png": "[encoded data removed]",
      "text/plain": [
       "<Figure size 432x288 with 1 Axes>"
      ]
     },
     "metadata": {
      "needs_background": "light"
     },
     "output_type": "display_data"
    }
   ],
   "source": [
    "\n",
    "\n",
    "plt.figure()\n",
    "plt.plot(range(len(p)), p_max)\n",
    "plt.gca().xaxis.set_ticks(range(len(p)))\n",
    "plt.gca().xaxis.set_ticklabels(p)\n",
    "plt.ylabel('Heights')\n",
    "plt.show()"
   ]
  },
  {
   "cell_type": "code",
   "execution_count": null,
   "metadata": {},
   "outputs": [],
   "source": []
  }
 ],
 "metadata": {
  "kernelspec": {
   "display_name": "Python 3",
   "language": "python",
   "name": "python3"
  },
  "language_info": {
   "codemirror_mode": {
    "name": "ipython",
    "version": 3
   },
   "file_extension": ".py",
   "mimetype": "text/x-python",
   "name": "python",
   "nbconvert_exporter": "python",
   "pygments_lexer": "ipython3",
   "version": "3.7.3"
  }
 },
 "nbformat": 4,
 "nbformat_minor": 2
}
